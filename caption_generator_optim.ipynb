{
 "cells": [
  {
   "cell_type": "code",
   "execution_count": 1,
   "metadata": {},
   "outputs": [],
   "source": [
    "from transformers import AutoTokenizer, AutoModelForCausalLM, BitsAndBytesConfig\n",
    "import torch\n",
    "from torch.utils.data import Dataset\n",
    "import time\n",
    "import json\n",
    "import os\n",
    "from tqdm import tqdm"
   ]
  },
  {
   "cell_type": "code",
   "execution_count": 2,
   "metadata": {},
   "outputs": [
    {
     "data": {
      "text/plain": [
       "device(type='cuda')"
      ]
     },
     "execution_count": 2,
     "metadata": {},
     "output_type": "execute_result"
    }
   ],
   "source": [
    "device = torch.device(\"cuda\" if torch.cuda.is_available() else \"cpu\")\n",
    "device"
   ]
  },
  {
   "cell_type": "code",
   "execution_count": null,
   "metadata": {},
   "outputs": [],
   "source": [
    "# Image Prompt Dataset\n",
    "class CaptionDataset(Dataset):\n",
    "    def __init__(self, captions_file):\n",
    "        with open(captions_file, 'r') as f:\n",
    "            self.data = json.load(f)\n",
    "        \n",
    "        self.image_filenames = list(self.data.keys())\n",
    "        self.captions = list(self.data.values())\n",
    "    \n",
    "    def __len__(self):\n",
    "        return len(self.image_filenames)\n",
    "    \n",
    "    def __getitem__(self, idx):\n",
    "        image_filename = self.image_filenames[idx]\n",
    "        caption = self.captions[idx]\n",
    "        return image_filename, caption"
   ]
  },
  {
   "cell_type": "code",
   "execution_count": null,
   "metadata": {},
   "outputs": [
    {
     "name": "stdout",
     "output_type": "stream",
     "text": [
      "20000\n"
     ]
    }
   ],
   "source": [
    "# Dataset\n",
    "part = 4\n",
    "captions_file = f\"img_prompts_part_{part}.json\"\n",
    "result_file = f\"merged_captions_part_{part}.json\"\n",
    "if not os.path.exists(result_file):    \n",
    "    with open(result_file, \"w\", encoding=\"utf-8\") as f:\n",
    "        ...\n",
    "dataset = CaptionDataset(captions_file)\n",
    "print(len(dataset))"
   ]
  },
  {
   "cell_type": "code",
   "execution_count": 5,
   "metadata": {},
   "outputs": [
    {
     "data": {
      "application/vnd.jupyter.widget-view+json": {
       "model_id": "fd8e56dfcbdd45c58d65d7ced5ff2661",
       "version_major": 2,
       "version_minor": 0
      },
      "text/plain": [
       "Loading checkpoint shards:   0%|          | 0/4 [00:00<?, ?it/s]"
      ]
     },
     "metadata": {},
     "output_type": "display_data"
    }
   ],
   "source": [
    "# Load model and tokenizer\n",
    "# tokenizer_name = \"nvidia/Nemotron-Mini-4B-Instruct\"\n",
    "tokenizer_name = \"nemotron_tokenizer\"\n",
    "tokenizer = AutoTokenizer.from_pretrained(tokenizer_name, use_default_system_prompt=True)\n",
    "tokenizer.pad_token_id = tokenizer.eos_token_id\n",
    "\n",
    "q_conf = BitsAndBytesConfig(load_in_8bit=True)\n",
    "\n",
    "# model_name = \"nvidia/Nemotron-Mini-4B-Instruct\"\n",
    "model_name = \"nemotron_model\"\n",
    "model = AutoModelForCausalLM.from_pretrained(model_name, quantization_config=q_conf, device_map=\"auto\").eval()\n",
    "\n",
    "# Save model and tokenizer\n",
    "# tokenizer.save_pretrained(\"nemotron_tokenizer\")\n",
    "# model.save_pretrained(\"nemotron_model\")\n",
    "# torch.save(model, \"nemotron_model.pth\")"
   ]
  },
  {
   "cell_type": "code",
   "execution_count": null,
   "metadata": {},
   "outputs": [],
   "source": [
    "def generate_caption(id):\n",
    "    pth, prompt = dataset[id]\n",
    "\n",
    "    # prompt = (\n",
    "    #     \"The following captions describe the same image in different ways. \"\n",
    "    #     \"Merge them into a single, clear, and accurate description of the same scene, avoiding repetition:\\n\\n\"\n",
    "    #     + \"\\n\".join(lst)\n",
    "    #     + \"\\n\\nMerged Paragraph:\"\n",
    "    # )\n",
    "\n",
    "    # Tokenize input\n",
    "    inputs = tokenizer(prompt, return_tensors=\"pt\").to(device)\n",
    "\n",
    "    # Generate output\n",
    "    with torch.inference_mode():\n",
    "        output_tokens = model.generate(\n",
    "            **inputs,\n",
    "            max_new_tokens=100,\n",
    "            do_sample=False,\n",
    "            pad_token_id=tokenizer.eos_token_id\n",
    "        )\n",
    "\n",
    "    # Decode and clean up output\n",
    "    output_text = tokenizer.decode(output_tokens[0], skip_special_tokens=True)\n",
    "    generated_paragraph = output_text.split(\"Merged Paragraph:\")[-1].strip()\n",
    "    \n",
    "    return pth, generated_paragraph"
   ]
  },
  {
   "cell_type": "code",
   "execution_count": null,
   "metadata": {},
   "outputs": [
    {
     "name": "stdout",
     "output_type": "stream",
     "text": [
      "10680\n"
     ]
    }
   ],
   "source": [
    "with open(result_file, \"r\", encoding=\"utf-8\") as f:\n",
    "    checkpoint = len(f.readlines()) - 1\n",
    "\n",
    "print(checkpoint)"
   ]
  },
  {
   "cell_type": "code",
   "execution_count": null,
   "metadata": {},
   "outputs": [
    {
     "name": "stderr",
     "output_type": "stream",
     "text": [
      "Generating Captions:   0%|          | 0/20000 [00:00<?, ?it/s]C:\\Users\\samee\\AppData\\Local\\Packages\\PythonSoftwareFoundation.Python.3.12_qbz5n2kfra8p0\\LocalCache\\local-packages\\Python312\\site-packages\\transformers\\models\\nemotron\\modeling_nemotron.py:133: FutureWarning: `torch.cuda.amp.autocast(args...)` is deprecated. Please use `torch.amp.autocast('cuda', args...)` instead.\n",
      "  with torch.cuda.amp.autocast(enabled=False):\n",
      "C:\\Users\\samee\\AppData\\Local\\Packages\\PythonSoftwareFoundation.Python.3.12_qbz5n2kfra8p0\\LocalCache\\local-packages\\Python312\\site-packages\\transformers\\models\\nemotron\\modeling_nemotron.py:547: UserWarning: 1Torch was not compiled with flash attention. (Triggered internally at C:\\actions-runner\\_work\\pytorch\\pytorch\\builder\\windows\\pytorch\\aten\\src\\ATen\\native\\transformers\\cuda\\sdp_utils.cpp:555.)\n",
      "  attn_output = torch.nn.functional.scaled_dot_product_attention(\n",
      "Starting from v4.46, the `logits` model output will have the same type as the model (except at train time, where it will always be FP32)\n",
      "Generating Captions: 100%|██████████| 20000/20000 [8:46:02<00:00,  1.58s/it]   "
     ]
    },
    {
     "name": "stdout",
     "output_type": "stream",
     "text": [
      "Time taken: 31562.68\n"
     ]
    },
    {
     "name": "stderr",
     "output_type": "stream",
     "text": [
      "\n"
     ]
    }
   ],
   "source": [
    "with open(result_file, \"a\", encoding=\"utf-8\") as f:\n",
    "    if checkpoint == -1:\n",
    "      f.write(\"{\\n\")  # Start JSON object\n",
    "      first_entry = True\n",
    "    else:\n",
    "      first_entry = False\n",
    "\n",
    "    for i in tqdm(range(len(dataset)), total=len(dataset), desc=\"Generating Captions\"):\n",
    "        if i < checkpoint:\n",
    "            continue\n",
    "\n",
    "        img, generated_caption = generate_caption(i)\n",
    "\n",
    "        # Write each entry separately\n",
    "        if not first_entry:\n",
    "          f.write(\",\\n\")  # Add a comma before new entries (except the first)\n",
    "        json.dump(img, f)\n",
    "        f.write(\": \")\n",
    "        json.dump(generated_caption, f)\n",
    "\n",
    "        f.flush()  # Ensure data is written immediately\n",
    "        first_entry = False\n",
    "\n",
    "    f.write(\"\\n}\")  # End JSON object"
   ]
  }
 ],
 "metadata": {
  "kernelspec": {
   "display_name": "Python 3",
   "language": "python",
   "name": "python3"
  },
  "language_info": {
   "codemirror_mode": {
    "name": "ipython",
    "version": 3
   },
   "file_extension": ".py",
   "mimetype": "text/x-python",
   "name": "python",
   "nbconvert_exporter": "python",
   "pygments_lexer": "ipython3",
   "version": "3.12.9"
  }
 },
 "nbformat": 4,
 "nbformat_minor": 4
}
